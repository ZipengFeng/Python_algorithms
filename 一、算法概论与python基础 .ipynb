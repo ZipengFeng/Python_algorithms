{
 "cells": [
  {
   "cell_type": "markdown",
   "metadata": {},
   "source": [
    "# Python数据结构与算法"
   ]
  },
  {
   "cell_type": "markdown",
   "metadata": {},
   "source": [
    "## 一、算法概论与python基础 "
   ]
  },
  {
   "cell_type": "markdown",
   "metadata": {},
   "source": [
    "###  （一） 数量级O"
   ]
  },
  {
   "cell_type": "markdown",
   "metadata": {},
   "source": [
    "1.函数的数量级表示了随着 n 的值增加而增加最快的那些部分。如T(n)=5n^2 +27n+1005，T(n) 具有的数量级为 O( n^2 )。\n",
    "\n",
    "\n",
    "2.常用数量级表如下：\n",
    "<img src =\"image/1_1.jpg\", width = 250, higth = 500>"
   ]
  },
  {
   "cell_type": "code",
   "execution_count": 23,
   "metadata": {},
   "outputs": [
    {
     "name": "stdout",
     "output_type": "stream",
     "text": [
      "所需时间为：0.11524749 seconds\n"
     ]
    }
   ],
   "source": [
    "import time\n",
    "def computeN(n):\n",
    "    start = time.time()\n",
    "    \n",
    "    a=5\n",
    "    b=6\n",
    "    c=10\n",
    "    \n",
    "    for i in range(n):\n",
    "        for j in range(n):\n",
    "            x = i * i\n",
    "            y = j * j\n",
    "            z = i * j\n",
    "            \n",
    "    for k in range(n):\n",
    "        w = a*k + 45\n",
    "        v = b*b\n",
    "        \n",
    "    d = 33\n",
    "    \n",
    "    end = time.time()\n",
    "    \n",
    "    return end-start\n",
    "\n",
    "print (\"所需时间为：%10.8f seconds\" %computeN(1000))"
   ]
  },
  {
   "cell_type": "markdown",
   "metadata": {
    "collapsed": true
   },
   "source": [
    "分配操作数分为四个项的总和。第一个项是常数 3, 表示片段开始的三个赋值语句。第二项是3n^2, 因为由于嵌套迭代，有三个语句执行 n^2 次。第三项是 2n, 两个语句迭代 n 次。最后，第四项是常数 1，表示最终赋值语句。最后得出 T(n)=3+3n^2 +2n+1=3n^2 + 2n+4，通过查看指数，我们可以看到 n^2 项是显性的，因此这个代码段是 O(n^ 2 )。当 n 增大时，所有其他项以及主项上的系数都可以忽略。"
   ]
  },
  {
   "cell_type": "markdown",
   "metadata": {
    "collapsed": true
   },
   "source": [
    "### (二） 乱序字符串检查案例\n",
    "\n",
    "\n",
    "乱序字符串是指一个字符串只是另一个字符串的重新排列。例如，'heart' 和 'earth' 就是乱序字符串。"
   ]
  },
  {
   "cell_type": "markdown",
   "metadata": {},
   "source": [
    "#### 方案一：检查第一个字符串列表中的每个字符是否存在于第二个列表中"
   ]
  },
  {
   "cell_type": "code",
   "execution_count": 77,
   "metadata": {
    "scrolled": true
   },
   "outputs": [
    {
     "name": "stdout",
     "output_type": "stream",
     "text": [
      "a c\n",
      "a e\n",
      "a b\n",
      "a d\n",
      "a a\n",
      "已找到对应项\n",
      "b c\n",
      "b e\n",
      "b b\n",
      "已找到对应项\n",
      "c c\n",
      "已找到对应项\n",
      "d None\n",
      "d e\n",
      "d None\n",
      "d d\n",
      "已找到对应项\n",
      "e None\n",
      "e e\n",
      "已找到对应项\n",
      "是否为乱序字符串：True\n"
     ]
    }
   ],
   "source": [
    "def StringCheck1(s1,s2):\n",
    "    s1_list = list(s1)\n",
    "    s2_list = list(s2)\n",
    "    sameString = True\n",
    "    HasFound = False\n",
    "    if len(s1_list) != len(s2_list):\n",
    "        sameString = False\n",
    "        print (\"字符串大小不同\")\n",
    "    else:\n",
    "        for i in range(len(s1_list)):\n",
    "    #         对s1中的每个字符，检查是否在j中出现。如果出现，则将j中该字符置为空（防止重复对应），并检测s1中的下一个字符\n",
    "            for j in range(len(s2_list)): \n",
    "                print(s1_list[i],s2_list[j])\n",
    "                if s1_list[i] == s2_list[j] :\n",
    "                    s2_list[j] = None\n",
    "                    print (\"已找到对应项\")\n",
    "                    HasFound = True\n",
    "                    break\n",
    "                HasFound = False\n",
    "# 只要某一个字符未找到对应字符，则退出，判定为非乱序字符串         \n",
    "            if (HasFound == False):\n",
    "                print (\"未找到对应项\")\n",
    "                sameString = False\n",
    "                break\n",
    "    \n",
    "    return sameString         \n",
    "            \n",
    "print(\"是否为乱序字符串：\" + str(StringCheck1('abcde','cebda')))        \n",
    "    "
   ]
  },
  {
   "cell_type": "markdown",
   "metadata": {},
   "source": [
    "访问次数可以写成 1 到 n 整数的和，\n",
    "$\\sum^n_{i=1}{i}=\\frac{n(n+1)}{2}=\\frac{1}{2}n^2+\\frac{1}{2}n$,所以复杂度为O（n^2）。\n"
   ]
  },
  {
   "cell_type": "markdown",
   "metadata": {
    "collapsed": true
   },
   "source": [
    "#### 方案二：排序 + 比较"
   ]
  },
  {
   "cell_type": "code",
   "execution_count": 86,
   "metadata": {},
   "outputs": [
    {
     "name": "stdout",
     "output_type": "stream",
     "text": [
      "['a', 'b', 'c', 'd', 'e'] ['a', 'b', 'c', 'c', 'd']\n",
      "a a\n",
      "b b\n",
      "c c\n",
      "d c\n",
      "未找到对应项\n",
      "是否为乱序字符串：False\n"
     ]
    }
   ],
   "source": [
    "def StringCheck2(s1,s2):\n",
    "    s1_list = list(s1)\n",
    "    s2_list = list(s2)\n",
    "    s1_list.sort()\n",
    "    s2_list.sort()\n",
    "    print(s1_list,s2_list)\n",
    "    sameString = True\n",
    "    \n",
    "    if len(s1_list) != len(s2_list):\n",
    "        sameString = False\n",
    "        print (\"字符串大小不同\")\n",
    "    else: \n",
    "        for i in range(len(s1_list)):\n",
    "            print(s1_list[i],s2_list[i])\n",
    "#             只要某一项不同，则肯定不是乱序字符串，直接退出\n",
    "            if s1_list[i] != s2_list[i]:\n",
    "                sameString = False\n",
    "                print (\"未找到对应项\")\n",
    "                break\n",
    "    return sameString         \n",
    "            \n",
    "print(\"是否为乱序字符串：\" + str(StringCheck2('abcde','ccbda')))         \n",
    "\n",
    "    "
   ]
  },
  {
   "cell_type": "markdown",
   "metadata": {},
   "source": [
    "虽然只是简单的迭代来比较排序后的 n 个字符，最多只需要n次比较。但是，调用 Python 排序不是没有成本。正如我们将在后面的章节中看到的，排序通常是\n",
    "O(n^2) 或 O(nlogn)，它是主要的影响因素。"
   ]
  },
  {
   "cell_type": "markdown",
   "metadata": {},
   "source": [
    "#### 方案三：计数+比较"
   ]
  },
  {
   "cell_type": "markdown",
   "metadata": {},
   "source": [
    "首先计算的是每个字母出现的次数。由于有 26 个可能的字符，我们就用一个长度为 26 的列表，\n",
    "每个可能的字符占一个位置。每次看到一个特定的字符，就增加该位置的计数器。最后如果\n",
    "两个列表的计数器一样，则字符串为乱序字符串。"
   ]
  },
  {
   "cell_type": "code",
   "execution_count": 90,
   "metadata": {
    "scrolled": true
   },
   "outputs": [
    {
     "name": "stdout",
     "output_type": "stream",
     "text": [
      "1 1\n",
      "1 1\n",
      "1 1\n",
      "1 1\n",
      "1 1\n",
      "0 0\n",
      "0 0\n",
      "0 0\n",
      "0 0\n",
      "0 0\n",
      "0 0\n",
      "0 0\n",
      "0 0\n",
      "0 0\n",
      "0 0\n",
      "0 0\n",
      "0 0\n",
      "0 0\n",
      "0 0\n",
      "0 0\n",
      "0 0\n",
      "0 0\n",
      "0 0\n",
      "0 0\n",
      "0 0\n",
      "0 0\n",
      "是否为乱序字符串：True\n"
     ]
    }
   ],
   "source": [
    "def StringCheck3(s1,s2):\n",
    "    sameString = True\n",
    "    c1 = [0]*26\n",
    "    c2 = [0]*26\n",
    "    for i in range(len(s1)):\n",
    "        pos = ord(s1[i])-ord('a')  #ord为ascii码\n",
    "        c1[pos] = c1[pos] + 1\n",
    "    for i in range(len(s2)):\n",
    "        pos = ord(s2[i])-ord('a')\n",
    "        c2[pos] = c2[pos] + 1\n",
    "    \n",
    "    for i in range(len(c1)):\n",
    "        print(c1[i],c2[i])\n",
    "        \n",
    "        if c1[i]!=c2[i]:\n",
    "            sameString = False\n",
    "            break\n",
    "    \n",
    "    return sameString\n",
    "\n",
    "print(\"是否为乱序字符串：\" + str(StringCheck3('abcde','cebda')))   \n",
    "            "
   ]
  },
  {
   "cell_type": "markdown",
   "metadata": {},
   "source": [
    "存放字符串个数的两个迭代都是 n, 第三个迭代比较两个计数列表，需要 26 步，因为有 26 个字母。一共T(n)=2n+26T(n)=2n+26，即 O(n)，我们找到了一个线性量级的算法解决这个问题。\n",
    "\n",
    "\n",
    "但它需要额外的存储来保存两个字符计数列表。换句话说，该算法牺牲了空间以获得时间。很多情况下，需要在空间和时间之间做出权衡。"
   ]
  },
  {
   "cell_type": "markdown",
   "metadata": {},
   "source": [
    "## （三） 列表操作的执行时间比较"
   ]
  },
  {
   "cell_type": "code",
   "execution_count": 92,
   "metadata": {},
   "outputs": [
    {
     "name": "stdout",
     "output_type": "stream",
     "text": [
      "concat  1.3382936722398895 milliseconds\n",
      "append  0.07120109681933773 milliseconds\n",
      "comprehension  0.028552573941438286 milliseconds\n",
      "list range  0.012231697396191787 milliseconds\n"
     ]
    }
   ],
   "source": [
    "from timeit import Timer\n",
    "\n",
    "# 拼接\n",
    "def test1():\n",
    "    l = []\n",
    "    for i in range(1000):\n",
    "        l = l + [i]\n",
    "#  append操作\n",
    "def test2():\n",
    "    l = []\n",
    "    for i in range(1000):\n",
    "        l.append(i)\n",
    "# 列表生成器\n",
    "def test3():\n",
    "    l = [i for i in range(1000)]\n",
    "# 直接调用列表函数    \n",
    "def test4():\n",
    "    l = list(range(1000))\n",
    "\n",
    "# 测试执行时间的常用语句\n",
    "t1 = Timer(\"test1()\", \"from __main__ import test1\")    # 设置Timer的参数：要执行的函数\n",
    "print(\"concat \",t1.timeit(number=1000), \"milliseconds\")  # 执行1000次\n",
    "t2 = Timer(\"test2()\", \"from __main__ import test2\")\n",
    "print(\"append \",t2.timeit(number=1000), \"milliseconds\")\n",
    "t3 = Timer(\"test3()\", \"from __main__ import test3\")\n",
    "print(\"comprehension \",t3.timeit(number=1000), \"milliseconds\")\n",
    "t4 = Timer(\"test4()\", \"from __main__ import test4\")\n",
    "print(\"list range \",t4.timeit(number=1000), \"milliseconds\")"
   ]
  },
  {
   "cell_type": "markdown",
   "metadata": {},
   "source": [
    "## （四） 字典操作的执行时间比较"
   ]
  },
  {
   "cell_type": "code",
   "execution_count": 98,
   "metadata": {},
   "outputs": [
    {
     "name": "stdout",
     "output_type": "stream",
     "text": [
      "10000,     0.064,     0.001\n",
      "110000,     0.601,     0.001\n",
      "210000,     1.070,     0.001\n",
      "310000,     1.598,     0.001\n",
      "410000,     2.076,     0.001\n",
      "510000,     2.647,     0.001\n",
      "610000,     3.021,     0.001\n",
      "710000,     3.642,     0.001\n",
      "810000,     3.968,     0.001\n",
      "910000,     4.824,     0.001\n"
     ]
    }
   ],
   "source": [
    "import timeit\n",
    "import random\n",
    "for i in range(10000,1000001,100000):\n",
    "    t = timeit.Timer(\"random.randrange(%d) in x\"%i,\n",
    "        \"from __main__ import random,x\")\n",
    "    x = list(range(i))\n",
    "    lst_time = t.timeit(number=1000)\n",
    "    x = {j:None for j in range(i)}\n",
    "    d_time = t.timeit(number=1000)\n",
    "    print(\"%d,%10.3f,%10.3f\" % (i, lst_time, d_time))"
   ]
  },
  {
   "cell_type": "markdown",
   "metadata": {
    "collapsed": true
   },
   "source": [
    "## （四）运算符操作"
   ]
  },
  {
   "cell_type": "markdown",
   "metadata": {},
   "source": [
    "http://www.runoob.com/python/python-operators.html#ysf5"
   ]
  },
  {
   "cell_type": "markdown",
   "metadata": {},
   "source": [
    "&\t按位与运算符\n",
    "|\t按位或运算符\n",
    "^\t按位异或运算符"
   ]
  },
  {
   "cell_type": "code",
   "execution_count": 4,
   "metadata": {},
   "outputs": [
    {
     "name": "stdout",
     "output_type": "stream",
     "text": [
      "0b1100\n"
     ]
    },
    {
     "data": {
      "text/plain": [
       "2"
      ]
     },
     "execution_count": 4,
     "metadata": {},
     "output_type": "execute_result"
    }
   ],
   "source": [
    "x = 8\n",
    "y = 4\n",
    "print(bin(x^y))\n",
    "bin(x^y).count('1') #对二进制进行位异或操作"
   ]
  },
  {
   "cell_type": "markdown",
   "metadata": {},
   "source": [
    "## （五）Contiune和Break"
   ]
  },
  {
   "cell_type": "markdown",
   "metadata": {},
   "source": [
    "continue 语句是一个删除的效果，他的存在是为了删除满足循环条件下的某些不需要的成分:"
   ]
  },
  {
   "cell_type": "code",
   "execution_count": 2,
   "metadata": {},
   "outputs": [
    {
     "name": "stdout",
     "output_type": "stream",
     "text": [
      "当前值 : 9\n",
      "当前值 : 7\n",
      "当前值 : 6\n",
      "当前值 : 4\n",
      "当前值 : 3\n",
      "当前值 : 2\n",
      "当前值 : 1\n",
      "当前值 : 0\n",
      "Good bye!\n"
     ]
    }
   ],
   "source": [
    "var = 10\n",
    "\n",
    "while var > 0:\n",
    "    var = var -1\n",
    "    if var == 5 or var == 8:\n",
    "        continue\n",
    "    print ('当前值 :', var)\n",
    "print(\"Good bye!\") "
   ]
  },
  {
   "cell_type": "markdown",
   "metadata": {},
   "source": [
    "break语句用在while和for循环中。\n",
    "\n",
    "如果您使用嵌套循环，break语句将停止执行最深层的循环，并开始执行下一行代码。"
   ]
  },
  {
   "cell_type": "code",
   "execution_count": 3,
   "metadata": {},
   "outputs": [
    {
     "name": "stdout",
     "output_type": "stream",
     "text": [
      "当前变量值 : 10\n",
      "当前变量值 : 9\n",
      "当前变量值 : 8\n",
      "当前变量值 : 7\n",
      "当前变量值 : 6\n",
      "Good bye!\n"
     ]
    }
   ],
   "source": [
    "var = 10                    # 第二个实例\n",
    "while var > 0:              \n",
    "    print ('当前变量值 :', var)\n",
    "    var = var -1\n",
    "    if var == 5:   # 当变量 var 等于 5 时退出循环\n",
    "        break\n",
    " \n",
    "print (\"Good bye!\")"
   ]
  },
  {
   "cell_type": "markdown",
   "metadata": {},
   "source": [
    "## （五）进制转换"
   ]
  },
  {
   "cell_type": "code",
   "execution_count": null,
   "metadata": {
    "collapsed": true
   },
   "outputs": [],
   "source": [
    "http://www.pythontab.com/html/2013/pythonjichu_0102/86.html"
   ]
  },
  {
   "cell_type": "code",
   "execution_count": 36,
   "metadata": {},
   "outputs": [
    {
     "data": {
      "text/plain": [
       "2"
      ]
     },
     "execution_count": 36,
     "metadata": {},
     "output_type": "execute_result"
    }
   ],
   "source": [
    "a = 5\n",
    "b = bin(a)[2:]\n",
    "c = int(\"\".join([\"1\"if ls == \"0\" else \"0\" for ls in b]),2)\n",
    "c"
   ]
  },
  {
   "cell_type": "markdown",
   "metadata": {},
   "source": [
    "先二进制转换为字符串，去除掉前面的“ob”标志。然后按位取反，生成新字符串。最后int（a,2）表示二进制换换位十进制。"
   ]
  },
  {
   "cell_type": "markdown",
   "metadata": {},
   "source": [
    "## （六）join连接符"
   ]
  },
  {
   "cell_type": "code",
   "execution_count": 39,
   "metadata": {},
   "outputs": [
    {
     "data": {
      "text/plain": [
       "\"s'teL ekat edoCteeL tsetnoc\""
      ]
     },
     "execution_count": 39,
     "metadata": {},
     "output_type": "execute_result"
    }
   ],
   "source": [
    "def reverseWords( s):\n",
    "    \"\"\"\n",
    "    :type s: str\n",
    "    :rtype: str\n",
    "    \"\"\"\n",
    "    return ' '.join(spiece[::-1] for spiece in s.split(' '))\n",
    "\n",
    "reverseWords(\"Let's take LeetCode contest\")\n",
    "\n",
    "#     用‘ ’把后面的所有项都连接起来"
   ]
  }
 ],
 "metadata": {
  "kernelspec": {
   "display_name": "Python 3",
   "language": "python",
   "name": "python3"
  },
  "language_info": {
   "codemirror_mode": {
    "name": "ipython",
    "version": 3
   },
   "file_extension": ".py",
   "mimetype": "text/x-python",
   "name": "python",
   "nbconvert_exporter": "python",
   "pygments_lexer": "ipython3",
   "version": "3.6.3"
  }
 },
 "nbformat": 4,
 "nbformat_minor": 2
}
