{
 "cells": [
  {
   "cell_type": "markdown",
   "metadata": {},
   "source": [
    "# Python数据结构与算法"
   ]
  },
  {
   "cell_type": "markdown",
   "metadata": {},
   "source": [
    "## 三、递归、搜索与排序算法"
   ]
  },
  {
   "cell_type": "markdown",
   "metadata": {},
   "source": [
    "### （一）递归"
   ]
  },
  {
   "cell_type": "markdown",
   "metadata": {},
   "source": [
    "#### 计算数字累加和举例"
   ]
  },
  {
   "cell_type": "code",
   "execution_count": 1,
   "metadata": {},
   "outputs": [
    {
     "name": "stdout",
     "output_type": "stream",
     "text": [
      "25\n"
     ]
    }
   ],
   "source": [
    "def listsum(numList):\n",
    "    if len(numList) == 1:\n",
    "        return numList[0]\n",
    "    else:\n",
    "        return numList[0] + listsum(numList[1:])\n",
    "print(listsum([1,3,5,7,9]))"
   ]
  },
  {
   "cell_type": "markdown",
   "metadata": {},
   "source": [
    "#### 计算进制转换举例"
   ]
  },
  {
   "cell_type": "code",
   "execution_count": 5,
   "metadata": {},
   "outputs": [
    {
     "name": "stdout",
     "output_type": "stream",
     "text": [
      "10000\n"
     ]
    }
   ],
   "source": [
    "def transform(num,mod):\n",
    "    convertString = \"0123456789ABCDEF\"\n",
    "    if num < mod:\n",
    "        return convertString[num]\n",
    "    else:\n",
    "        return transform(num//mod,mod)+ convertString[num % mod]\n",
    "\n",
    "print (transform(16,2))"
   ]
  },
  {
   "cell_type": "markdown",
   "metadata": {},
   "source": [
    "#### 画蛛网图举例"
   ]
  },
  {
   "cell_type": "code",
   "execution_count": 6,
   "metadata": {
    "collapsed": true
   },
   "outputs": [],
   "source": [
    "import turtle\n",
    "\n",
    "myTurtle = turtle.Turtle()\n",
    "myWin = turtle.Screen()\n",
    "def drawSpiral(myTurtle, lineLen):\n",
    "    if lineLen > 0:\n",
    "        myTurtle.forward(lineLen)\n",
    "        myTurtle.right(90)\n",
    "        drawSpiral(myTurtle,lineLen-5)\n",
    "        \n",
    "drawSpiral(myTurtle,100)\n",
    "myWin.exitonclick()"
   ]
  },
  {
   "cell_type": "markdown",
   "metadata": {},
   "source": [
    "#### 画分形树举例"
   ]
  },
  {
   "cell_type": "code",
   "execution_count": 1,
   "metadata": {
    "collapsed": true
   },
   "outputs": [],
   "source": [
    "import turtle\n",
    "def tree(branchLen,t):\n",
    "    if branchLen > 5:\n",
    "        t.forward(branchLen)\n",
    "        t.right(20)\n",
    "        tree(branchLen-15,t)\n",
    "        t.left(40)\n",
    "        tree(branchLen-15,t)\n",
    "        t.right(20)\n",
    "        t.backward(branchLen)\n",
    "def main():\n",
    "    t = turtle.Turtle()\n",
    "    myWin = turtle.Screen()\n",
    "    t.left(90)\n",
    "    t.up()\n",
    "    t.backward(100)\n",
    "    t.down()\n",
    "    t.color(\"green\")\n",
    "    tree(75,t)\n",
    "    myWin.exitonclick()\n",
    "    \n",
    "main()"
   ]
  },
  {
   "cell_type": "markdown",
   "metadata": {},
   "source": [
    "### （二）搜索"
   ]
  },
  {
   "cell_type": "markdown",
   "metadata": {},
   "source": [
    "#### 1. 顺序查找"
   ]
  },
  {
   "cell_type": "markdown",
   "metadata": {},
   "source": [
    "对于无序列表：\n",
    "\n",
    "（1）项不在列表中：如果有n 个项，则顺序查找需要 n 个比较来发现项不存在。\n",
    "\n",
    "（2）项在列表中：有三种不同的情况可能发生。在最好的情况下，我们在列表的开头找到所需的项，只需要一个比较。在最坏的情况下，我们直到最后的比较才找到项，第 n 个比较。平均来说，我们会在列表的一半找到该项; 也就是说，我们将比较 n/2 项。\n",
    "\n",
    "复杂度为O（n）。\n",
    "\n",
    "对于有序列表：\n",
    "\n",
    "（1）项不在列表中：只需查找到大于该值的项，若在之前不存在，即可判定为不存在。平均也为n/2项。\n",
    "\n",
    "（2）项在列表中：与无序列表相同。\n",
    "\n",
    "复杂度为O（n）。"
   ]
  },
  {
   "cell_type": "markdown",
   "metadata": {},
   "source": [
    "#### 2. 二分查找（用于有序列表中）"
   ]
  },
  {
   "cell_type": "code",
   "execution_count": 11,
   "metadata": {},
   "outputs": [
    {
     "name": "stdout",
     "output_type": "stream",
     "text": [
      "[5, 8, 9, 10, 12, 30, 46, 98, 332, 587]\n",
      "True\n",
      "False\n"
     ]
    }
   ],
   "source": [
    "def divSearch(alist,item):\n",
    "    if len(alist) == 0:\n",
    "        return False\n",
    "    else:\n",
    "        midPosition = len(alist)//2\n",
    "        if alist[midPosition] == item:\n",
    "            return True\n",
    "        elif alist[midPosition] > item:\n",
    "            return divSearch(alist[:midPosition],item)\n",
    "        else:\n",
    "            return divSearch(alist[midPosition + 1:],item)\n",
    "\n",
    "testlist = [12,5,8,98,46,30,10,587,9,332]\n",
    "testlist.sort()\n",
    "print (testlist)\n",
    "print (divSearch(testlist,9))\n",
    "print (divSearch(testlist,50))"
   ]
  },
  {
   "cell_type": "markdown",
   "metadata": {},
   "source": [
    "二分查找复杂度：\n",
    "\n",
    "<img src =\"image/3_1.jpg\", width = 500, higth = 1000>\n",
    "\n",
    "找到查找项所需的比较数是 i，当 n/2^i = 1 时。 求解 i 得出 i = log^n 。 最大比较数相对于列表中的项是对数的。 因此，二分查找是 O( log^n )。\n",
    "\n",
    "即使二分查找通常比顺序查找更好，但重要的是要注意，对于小的 n 值，排序的额外成本可能不值得。如果我们可以排序一次，然后查找多次，排序的成本就不那么重要。然而，对于大型列表，一次排序可能是非常昂贵，从一开始就执行顺序查找可能是最好的选择。"
   ]
  },
  {
   "cell_type": "markdown",
   "metadata": {
    "collapsed": true
   },
   "source": [
    "#### 3.Hash查找"
   ]
  },
  {
   "cell_type": "markdown",
   "metadata": {
    "collapsed": true
   },
   "source": [
    "下图展示了大小 m = 11 的哈希表（大小一般为质数）。在表中有 m 个槽，命名为 0 到 10。初始值全为None。\n",
    "<img src =\"image/3_2.jpg\", width = 600, higth = 100>\n",
    "\n",
    "假设我们有整数项 54,26,93,17,77 和31 的集合。我们的第一个 hash 函数叫做 余数法 ，即对哈希表的长度求模作为其散列值 （h(item) = item％11）。求得的哈希表如下：\n",
    "<img src =\"image/3_3.jpg\", width = 600, higth = 100>\n",
    "\n",
    "给定项的集合，将每个项映射到唯一槽的散列函数被称为完美散列函数。一般情况下，会有冲突产生，即不同项可能会映射到同一槽。\n",
    "\n",
    "处理冲突的方法：分组求和法、平方取中法、重新散列\n",
    "\n",
    "查找哈希表中的项复杂度接近 O(1) 。"
   ]
  },
  {
   "cell_type": "markdown",
   "metadata": {
    "collapsed": true
   },
   "source": [
    "#### 实现 map 抽象数据类型"
   ]
  },
  {
   "cell_type": "markdown",
   "metadata": {
    "collapsed": true
   },
   "source": [
    "字典是一种关联数据类型，你可以在其中存储键-值对。该键用于查找关联的值。我们经常将这个想法称为 map 。\n",
    "\n",
    "下面用Hash查找实现map数据类型。"
   ]
  },
  {
   "cell_type": "code",
   "execution_count": 13,
   "metadata": {
    "collapsed": true
   },
   "outputs": [],
   "source": [
    "class HashTable:\n",
    "    def __init__(self):\n",
    "        self.size = 11\n",
    "        self.slots = [None] * self.size\n",
    "        self.data = [None] * self.size\n",
    "        \n",
    "    def put(self,key,data):\n",
    "        hashvalue = self.hashfunction(key,len(self.slots))\n",
    "        if self.slots[hashvalue] == None:\n",
    "            self.slots[hashvalue] = key\n",
    "            self.data[hashvalue] = data\n",
    "        else:\n",
    "            if self.slots[hashvalue] == key:\n",
    "                self.data[hashvalue] = data #replace\n",
    "            else:\n",
    "                nextslot = self.rehash(hashvalue,len(self.slots))\n",
    "                \n",
    "                while self.slots[nextslot] != None and self.slots[nextslot] != key:\n",
    "                    nextslot = self.rehash(nextslot,len(self.slots))\n",
    "                if self.slots[nextslot] == None:\n",
    "                    self.slots[nextslot]=key\n",
    "                    self.data[nextslot]=data\n",
    "                else:\n",
    "                    self.data[nextslot] = data #replace\n",
    "                    \n",
    "    def hashfunction(self,key,size):\n",
    "        return key%size\n",
    "    \n",
    "    def rehash(self,oldhash,size):    #加一取余映射\n",
    "        return (oldhash+1)%size\n",
    "    \n",
    "    def get(self,key):\n",
    "        startslot = self.hashfunction(key,len(self.slots))\n",
    "        data = None\n",
    "        stop = False\n",
    "        found = False\n",
    "        position = startslot\n",
    "        \n",
    "        while self.slots[position] != None and  not found and not stop:\n",
    "            if self.slots[position] == key:\n",
    "                found = True\n",
    "                data = self.data[position]\n",
    "            else:\n",
    "                position=self.rehash(position,len(self.slots))\n",
    "                if position == startslot:\n",
    "                    stop = True\n",
    "        return data\n",
    "    \n",
    "    def __getitem__(self,key):\n",
    "        return self.get(key)\n",
    "    \n",
    "    def __setitem__(self,key,data):\n",
    "        self.put(key,data)"
   ]
  },
  {
   "cell_type": "code",
   "execution_count": 23,
   "metadata": {
    "collapsed": true
   },
   "outputs": [],
   "source": [
    "# 创建一个哈希表并存储一些带有整数键和字符串数据值的项\n",
    ">>> H=HashTable()\n",
    ">>> H[54]=\"cat\"\n",
    ">>> H[26]=\"dog\"\n",
    ">>> H[93]=\"lion\"\n",
    ">>> H[17]=\"tiger\"\n",
    ">>> H[77]=\"bird\"\n",
    ">>> H[31]=\"cow\"\n",
    ">>> H[44]=\"goat\"\n",
    ">>> H[55]=\"pig\"\n",
    ">>> H[20]=\"chicken\""
   ]
  },
  {
   "cell_type": "code",
   "execution_count": 25,
   "metadata": {},
   "outputs": [
    {
     "name": "stdout",
     "output_type": "stream",
     "text": [
      "[77, 44, 55, 20, 26, 93, 17, None, None, 31, 54]\n",
      "['bird', 'goat', 'pig', 'chicken', 'dog', 'lion', 'tiger', None, None, 'cow', 'cat']\n"
     ]
    }
   ],
   "source": [
    "print(H.slots)\n",
    "print(H.data)"
   ]
  },
  {
   "cell_type": "code",
   "execution_count": 26,
   "metadata": {},
   "outputs": [
    {
     "name": "stdout",
     "output_type": "stream",
     "text": [
      "['bird', 'goat', 'pig', 'panda', 'dog', 'lion', 'tiger', None, None, 'cow', 'cat']\n"
     ]
    }
   ],
   "source": [
    "# 修改某一位置的值\n",
    "H[20] = 'panda'\n",
    "print(H.data)"
   ]
  },
  {
   "cell_type": "markdown",
   "metadata": {},
   "source": [
    "### （三）排序"
   ]
  },
  {
   "cell_type": "markdown",
   "metadata": {},
   "source": [
    "本节内容可参考http://abirdcfly.github.io/2016/03/09/python-sort/ ， 讲解的非常全面非常详细。"
   ]
  },
  {
   "cell_type": "markdown",
   "metadata": {},
   "source": [
    "####  1.冒泡排序法"
   ]
  },
  {
   "cell_type": "code",
   "execution_count": 30,
   "metadata": {},
   "outputs": [
    {
     "name": "stdout",
     "output_type": "stream",
     "text": [
      "[17, 20, 26, 31, 44, 54, 55, 77, 93]\n"
     ]
    }
   ],
   "source": [
    "def bubbleSort(alist):\n",
    "    for passnum in range(len(alist)-1,0,-1): \n",
    "        for i in range(passnum):\n",
    "            if alist[i]>alist[i+1]:\n",
    "#                 temp = alist[i]\n",
    "#                 alist[i] = alist[i+1]\n",
    "#                 alist[i+1] = temp\n",
    "\n",
    "# python中的简易交换写法\n",
    "                alist[i],alist[i+1] = alist[i+1],alist[i]\n",
    "alist = [54,26,93,17,77,31,44,55,20]\n",
    "bubbleSort(alist)\n",
    "print(alist)"
   ]
  },
  {
   "cell_type": "markdown",
   "metadata": {},
   "source": [
    "冒泡排序通常被认为是最低效的排序方法，共经过（n-1）+ (n-2) + …… + 1次比较与交换，复杂度为O(n^2)。"
   ]
  },
  {
   "cell_type": "markdown",
   "metadata": {},
   "source": [
    "####  2.选择排序法"
   ]
  },
  {
   "cell_type": "markdown",
   "metadata": {},
   "source": [
    "与冒泡排序法类似，但每次遍历不需要两两交换，只需找到最大值并放到指定位置。"
   ]
  },
  {
   "cell_type": "code",
   "execution_count": 32,
   "metadata": {},
   "outputs": [
    {
     "name": "stdout",
     "output_type": "stream",
     "text": [
      "[17, 20, 26, 31, 44, 54, 55, 77, 93]\n"
     ]
    }
   ],
   "source": [
    "def selectionSort(alist):\n",
    "    for fillslot in range(len(alist)-1,0,-1):\n",
    "        MaxPosition = 0\n",
    "#         选出最大值，放到指定位置\n",
    "        for i in range(1,fillslot+1):\n",
    "            if alist[i] > alist[MaxPosition]:\n",
    "                MaxPosition = i\n",
    "        \n",
    "        alist[fillslot],alist[MaxPosition] = alist[MaxPosition],alist[fillslot]\n",
    "    \n",
    "alist = [54,26,93,17,77,31,44,55,20]\n",
    "selectionSort(alist)\n",
    "print(alist)\n",
    "                "
   ]
  },
  {
   "cell_type": "markdown",
   "metadata": {},
   "source": [
    "选择排序与冒泡排序有相同数量的比较，因此也是 O(n^2 )。 然而，由于交换数量的减少，选择排序通常在基准研究中执行得更快。 事实上，对于我们的列表，冒泡排序有20 次交换，而选择排序只有 8 次。"
   ]
  },
  {
   "cell_type": "markdown",
   "metadata": {},
   "source": [
    "####  3.插入排序法"
   ]
  },
  {
   "cell_type": "markdown",
   "metadata": {},
   "source": [
    "每次循环，将待插值的项取出，依次与它前面的项比较。若前面的项比它大，则将前面的项依次后移一位，直至前面的项均比待插值项小为止。\n",
    "\n",
    "插入排序的最大比较次数是 n-1 个整数的总和。同样，是 O(n^2 )。然而，在最好的情况下，每次通过只需要进行一次比较。"
   ]
  },
  {
   "cell_type": "code",
   "execution_count": 38,
   "metadata": {},
   "outputs": [
    {
     "name": "stdout",
     "output_type": "stream",
     "text": [
      "[17, 20, 26, 31, 44, 54, 55, 77, 93]\n"
     ]
    }
   ],
   "source": [
    "def insertSort(alist):\n",
    "    for position in range(1,len(alist)):\n",
    "        value = alist[position]\n",
    "        \n",
    "        while position > 0 and alist[position-1] >value:\n",
    "            alist[position] = alist[position-1]\n",
    "            position -= 1\n",
    "            \n",
    "        alist[position] = value\n",
    "    \n",
    "alist = [54,26,93,17,77,31,44,55,20]\n",
    "insertSort(alist)\n",
    "print(alist)    \n",
    "            \n",
    "        "
   ]
  },
  {
   "cell_type": "markdown",
   "metadata": {},
   "source": [
    "#### 4.希尔排序法（递减递增排序）"
   ]
  },
  {
   "cell_type": "markdown",
   "metadata": {},
   "source": [
    "通过将原始列表分解为多个较小的子列表来改进插入排序，每个子列表使用插入排序进行排序。\n",
    "\n",
    "通过排序子列表，我们已将项目移动到更接近他们实际所属的位置。\n",
    "\n",
    "图示如下：\n",
    "<img src = \"image/3_4.jpg\" , width = 600, higth = 1000>\n",
    "\n",
    "它的复杂度倾向于落在 O(n) 和O(n^2 ) 之间的某处。"
   ]
  },
  {
   "cell_type": "markdown",
   "metadata": {
    "collapsed": true
   },
   "source": [
    "#### 5.归并排序"
   ]
  },
  {
   "cell_type": "markdown",
   "metadata": {},
   "source": [
    "归并排序是一种递归算法，不断将列表拆分为一半。 如果列表为空或有一个项，则按定义（基本情况） 进行排序。\n",
    "\n",
    "一旦对这两半排序完成，就执行称为合并的基本操作。\n",
    "\n",
    "举例如图：\n",
    "<img src = \"image/3_5.jpg\" , width = 600, higth = 1000>\n",
    "<img src = \"image/3_6.jpg\" , width = 600, higth = 1000>"
   ]
  },
  {
   "cell_type": "code",
   "execution_count": 40,
   "metadata": {},
   "outputs": [
    {
     "name": "stdout",
     "output_type": "stream",
     "text": [
      "Splitting  [54, 26, 93, 17, 77, 31, 44, 55, 20]\n",
      "Splitting  [54, 26, 93, 17]\n",
      "Splitting  [54, 26]\n",
      "Splitting  [54]\n",
      "Merging  [54]\n",
      "Splitting  [26]\n",
      "Merging  [26]\n",
      "Merging  [26, 54]\n",
      "Splitting  [93, 17]\n",
      "Splitting  [93]\n",
      "Merging  [93]\n",
      "Splitting  [17]\n",
      "Merging  [17]\n",
      "Merging  [17, 93]\n",
      "Merging  [17, 26, 54, 93]\n",
      "Splitting  [77, 31, 44, 55, 20]\n",
      "Splitting  [77, 31]\n",
      "Splitting  [77]\n",
      "Merging  [77]\n",
      "Splitting  [31]\n",
      "Merging  [31]\n",
      "Merging  [31, 77]\n",
      "Splitting  [44, 55, 20]\n",
      "Splitting  [44]\n",
      "Merging  [44]\n",
      "Splitting  [55, 20]\n",
      "Splitting  [55]\n",
      "Merging  [55]\n",
      "Splitting  [20]\n",
      "Merging  [20]\n",
      "Merging  [20, 55]\n",
      "Merging  [20, 44, 55]\n",
      "Merging  [20, 31, 44, 55, 77]\n",
      "Merging  [17, 20, 26, 31, 44, 54, 55, 77, 93]\n",
      "[17, 20, 26, 31, 44, 54, 55, 77, 93]\n"
     ]
    }
   ],
   "source": [
    "def mergeSort(alist):\n",
    "    print(\"Splitting \",alist)\n",
    "    if len(alist)>1:\n",
    "        mid = len(alist)//2\n",
    "        lefthalf = alist[:mid]\n",
    "        righthalf = alist[mid:]\n",
    "        mergeSort(lefthalf)   # 每次迭代，都先对左边的一半执行分割并合并的过程，再对右边的一半执行同样的过程\n",
    "        mergeSort(righthalf)  \n",
    "        i=0\n",
    "        j=0\n",
    "        k=0\n",
    "#          合并过程\n",
    "        while i < len(lefthalf) and j < len(righthalf):\n",
    "            if lefthalf[i] < righthalf[j]:\n",
    "                alist[k]=lefthalf[i]\n",
    "                i=i+1\n",
    "            else:\n",
    "                alist[k]=righthalf[j]\n",
    "                j=j+1\n",
    "            k=k+1\n",
    "#         只有左边存在基本单元时执行\n",
    "        while i < len(lefthalf):\n",
    "            alist[k]=lefthalf[i]\n",
    "            i=i+1\n",
    "            k=k+1\n",
    "#         只有右边存在基本单元时执行\n",
    "        while j < len(righthalf):\n",
    "            alist[k]=righthalf[j]\n",
    "            j=j+1\n",
    "            k=k+1\n",
    "    print(\"Merging \",alist)\n",
    "alist = [54,26,93,17,77,31,44,55,20]\n",
    "mergeSort(alist)\n",
    "print(alist)"
   ]
  },
  {
   "cell_type": "markdown",
   "metadata": {
    "collapsed": true
   },
   "source": [
    "复杂度：首先，列表被分成两半。我们已经计算过（在二分查找中） 将列表划分为一半需要 log^n 次，其中 n 是列表的长度。第二个过程是合并。列表中的每个项将最终被处理并放置在排序的列表上。因此，大小为 n 的列表的合并操作需要 n 个操作。此分析的结果是 log^n 的拆分，其中每个操作花费n，总共 nlog^n 。归并排序是一种 O(nlogn) 算法。\n",
    "\n",
    "但是，mergeSort 函数需要额外的空间来保存两个半部分，因为它们是使用切片操作提取的。如果列表很大，这个额外的空间可能是一个关键因素，并且在处理大型数据集时可能会导致此类问题。"
   ]
  },
  {
   "cell_type": "markdown",
   "metadata": {
    "collapsed": true
   },
   "source": [
    "#### 6.快速排序"
   ]
  },
  {
   "cell_type": "markdown",
   "metadata": {
    "collapsed": true
   },
   "source": [
    "（1）使用列表中的第一项作为枢轴值。枢轴值的作用是帮助拆分列表。\n",
    "（2）我们首先增加左标记，直到我们找到一个大于枢轴值的值。 然后我们递减右标，直到我们找到小于枢轴值的值。现在我们交换这两个项目，然后重复该过程。\n",
    "（3）最终所有元素比枢轴值小的摆放在枢轴值前面，所有元素比枢轴值大的摆在枢轴值的后面（相同的数可以到任一边）。在这个分区结束之后，该枢轴值就处于数列的中间位置。这个称为分区（partition）操作。\n",
    "（4）在拆分成的两半上递归调用快速排序。"
   ]
  },
  {
   "cell_type": "code",
   "execution_count": 41,
   "metadata": {},
   "outputs": [
    {
     "name": "stdout",
     "output_type": "stream",
     "text": [
      "[17, 20, 26, 31, 44, 54, 55, 77, 93]\n"
     ]
    }
   ],
   "source": [
    "def quickSort(alist):\n",
    "    quickSortHelper(alist,0,len(alist)-1)\n",
    "def quickSortHelper(alist,first,last):\n",
    "    if first<last:\n",
    "#         递归调用，直至全部排序成功\n",
    "        splitpoint = partition(alist,first,last)\n",
    "        quickSortHelper(alist,first,splitpoint-1)\n",
    "        quickSortHelper(alist,splitpoint+1,last)\n",
    "#         确定每一次迭代的枢轴值的位置\n",
    "def partition(alist,first,last):\n",
    "    pivotvalue = alist[first]\n",
    "    leftmark = first+1\n",
    "    rightmark = last\n",
    "    done = False\n",
    "    while not done:\n",
    "        while leftmark <= rightmark and alist[leftmark] <= pivotvalue:\n",
    "            leftmark = leftmark + 1\n",
    "        while alist[rightmark] >= pivotvalue and rightmark >= leftmark:\n",
    "            rightmark = rightmark -1\n",
    "        if rightmark < leftmark:\n",
    "            done = True\n",
    "        else:\n",
    "            temp = alist[leftmark]\n",
    "            alist[leftmark] = alist[rightmark]\n",
    "            alist[rightmark] = temp\n",
    "    temp = alist[first]\n",
    "    alist[first] = alist[rightmark]\n",
    "    alist[rightmark] = temp\n",
    "    return rightmark\n",
    "alist = [54,26,93,17,77,31,44,55,20]\n",
    "quickSort(alist)\n",
    "print(alist)"
   ]
  },
  {
   "cell_type": "markdown",
   "metadata": {},
   "source": [
    "快速排序复杂度是 O(nlog^n ） ，但如果分割点不在列表中间附近，可能会降级到O(n^2 ) 。它不需要额外的空间。"
   ]
  },
  {
   "cell_type": "code",
   "execution_count": 6,
   "metadata": {},
   "outputs": [
    {
     "data": {
      "text/plain": [
       "'0b1100'"
      ]
     },
     "execution_count": 6,
     "metadata": {},
     "output_type": "execute_result"
    }
   ],
   "source": [
    "x= 4\n",
    "y = 8\n",
    "bin(x^y)"
   ]
  }
 ],
 "metadata": {
  "kernelspec": {
   "display_name": "Python 3",
   "language": "python",
   "name": "python3"
  },
  "language_info": {
   "codemirror_mode": {
    "name": "ipython",
    "version": 3
   },
   "file_extension": ".py",
   "mimetype": "text/x-python",
   "name": "python",
   "nbconvert_exporter": "python",
   "pygments_lexer": "ipython3",
   "version": "3.6.3"
  }
 },
 "nbformat": 4,
 "nbformat_minor": 2
}
