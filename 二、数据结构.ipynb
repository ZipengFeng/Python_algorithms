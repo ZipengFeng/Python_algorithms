{
 "cells": [
  {
   "cell_type": "markdown",
   "metadata": {},
   "source": [
    "# Python数据结构与算法"
   ]
  },
  {
   "cell_type": "markdown",
   "metadata": {},
   "source": [
    "## 二、数据结构"
   ]
  },
  {
   "cell_type": "markdown",
   "metadata": {},
   "source": [
    "### （一）栈"
   ]
  },
  {
   "cell_type": "markdown",
   "metadata": {},
   "source": [
    "1.Stack() 创建一个空的新栈。 它不需要参数，并返回一个空栈。\n",
    "\n",
    "2.push(item)将一个新项添加到栈的顶部。它需要 item 做参数并不返回任何内容。\n",
    "\n",
    "3.pop() 从栈中删除顶部项。它不需要参数并返回 item 。栈被修改。\n",
    "\n",
    "4.peek() 从栈返回顶部项，但不会删除它。不需要参数。 不修改栈。\n",
    "\n",
    "5.isEmpty() 测试栈是否为空。不需要参数，并返回布尔值。\n",
    "\n",
    "6.size() 返回栈中的 item 数量。不需要参数，并返回一个整数。\n",
    "\n",
    "举例如下：\n",
    "<img src =\"image/2_1.jpg\", width = 500, higth = 1000>"
   ]
  },
  {
   "cell_type": "code",
   "execution_count": 2,
   "metadata": {},
   "outputs": [
    {
     "name": "stdout",
     "output_type": "stream",
     "text": [
      "True\n",
      "dog\n",
      "3\n",
      "False\n",
      "8.4\n",
      "True\n",
      "2\n"
     ]
    }
   ],
   "source": [
    "from pythonds.basic.stack import Stack\n",
    "s=Stack()\n",
    "print(s.isEmpty())\n",
    "s.push(4)\n",
    "s.push('dog')\n",
    "print(s.peek())\n",
    "s.push(True)\n",
    "print(s.size())\n",
    "print(s.isEmpty())\n",
    "s.push(8.4)\n",
    "print(s.pop())\n",
    "print(s.pop())\n",
    "print(s.size())"
   ]
  },
  {
   "cell_type": "markdown",
   "metadata": {
    "collapsed": true
   },
   "source": [
    "#### 小括号匹配实例"
   ]
  },
  {
   "cell_type": "code",
   "execution_count": 4,
   "metadata": {},
   "outputs": [
    {
     "name": "stdout",
     "output_type": "stream",
     "text": [
      "True\n"
     ]
    }
   ],
   "source": [
    "from pythonds.basic.stack import Stack\n",
    "\n",
    "def parChecker(String):\n",
    "    s=Stack()\n",
    "    balanced = True\n",
    "    index = 0\n",
    "    while index < len(String) and balanced:\n",
    "        symbol = String[index]\n",
    "        if symbol == \"(\":\n",
    "            s.push(symbol)\n",
    "        else:\n",
    "            if s.isEmpty():\n",
    "                balanced = False\n",
    "            else:\n",
    "                s.pop()\n",
    "        index = index + 1\n",
    "    \n",
    "    if balanced and s.isEmpty():\n",
    "        return True\n",
    "    else:\n",
    "        return False\n",
    "\n",
    "print (parChecker(\"(()(()))\"))"
   ]
  },
  {
   "cell_type": "markdown",
   "metadata": {},
   "source": [
    "#### 多类型括号匹配实例"
   ]
  },
  {
   "cell_type": "code",
   "execution_count": 12,
   "metadata": {},
   "outputs": [
    {
     "name": "stdout",
     "output_type": "stream",
     "text": [
      "True\n"
     ]
    }
   ],
   "source": [
    "from pythonds.basic.stack import Stack\n",
    "\n",
    "def mutiparChecker(String):\n",
    "    s=Stack()\n",
    "    balanced = True\n",
    "    index = 0\n",
    "    while index < len(String) and balanced:\n",
    "        symbol = String[index]\n",
    "        if symbol in \"{[(\":\n",
    "            s.push(symbol)\n",
    "        else:\n",
    "            if s.isEmpty():\n",
    "                balanced = False\n",
    "            else:\n",
    "                top = s.pop()\n",
    "                if not matches(top, symbol):\n",
    "                    balanced = False\n",
    "        index = index + 1\n",
    "    \n",
    "    if balanced and s.isEmpty():\n",
    "        return True\n",
    "    else:\n",
    "        return False\n",
    "\n",
    "def matches(left,right):\n",
    "    lefts = \"{[(\"\n",
    "    rights = \"}])\"\n",
    "    return lefts.index(left) == rights.index(right)\n",
    "    \n",
    "print (mutiparChecker(\"(()([{}]([])))\"))"
   ]
  },
  {
   "cell_type": "markdown",
   "metadata": {},
   "source": [
    "#### 二进制转换实例"
   ]
  },
  {
   "cell_type": "markdown",
   "metadata": {},
   "source": [
    "十进制转换为二进制的方法：不断整除二取余，将得到的余数反向排列，即得到二进制。因此可用栈方式解决。"
   ]
  },
  {
   "cell_type": "code",
   "execution_count": 14,
   "metadata": {},
   "outputs": [
    {
     "name": "stdout",
     "output_type": "stream",
     "text": [
      "10011010010100\n"
     ]
    }
   ],
   "source": [
    "from pythonds.basic.stack import Stack\n",
    "\n",
    "def DecToBin(decNumber):\n",
    "    remstack = Stack()\n",
    "    \n",
    "    while decNumber > 0:\n",
    "        rem = decNumber % 2\n",
    "        remstack.push(rem)\n",
    "        decNumber = decNumber// 2\n",
    "        \n",
    "    binNumber = \"\"\n",
    "    while not remstack.isEmpty():\n",
    "        binNumber = binNumber + str(remstack.pop())\n",
    "    \n",
    "    return binNumber\n",
    "\n",
    "print (DecToBin(9876))"
   ]
  },
  {
   "cell_type": "markdown",
   "metadata": {},
   "source": [
    "如果转变为其他进制，只需将整除和取余的2变为进制数即可。"
   ]
  },
  {
   "cell_type": "markdown",
   "metadata": {},
   "source": [
    "### （二）队列"
   ]
  },
  {
   "cell_type": "markdown",
   "metadata": {},
   "source": [
    "1.Queue() 创建一个空的新队列。 它不需要参数，并返回一个空队列。\n",
    "\n",
    "2.enqueue(item) 将新项添加到队尾。 它需要 item 作为参数，并不返回任何内容。\n",
    "\n",
    "3.dequeue() 从队首移除项。它不需要参数并返回 item。 队列被修改。\n",
    "\n",
    "4.isEmpty() 查看队列是否为空。它不需要参数，并返回布尔值。\n",
    "\n",
    "5.size() 返回队列中的项数。它不需要参数，并返回一个整数。\n",
    "\n",
    "举例如下：\n",
    "<img src =\"image/2_2.jpg\", width = 500, higth = 1000>"
   ]
  },
  {
   "cell_type": "markdown",
   "metadata": {},
   "source": [
    "#### “烫手山芋”实例"
   ]
  },
  {
   "cell_type": "code",
   "execution_count": 20,
   "metadata": {
    "scrolled": true
   },
   "outputs": [
    {
     "name": "stdout",
     "output_type": "stream",
     "text": [
      "3\n"
     ]
    }
   ],
   "source": [
    "from pythonds.basic.queue import Queue\n",
    "\n",
    "def hotPotato(namelist, num):\n",
    "    queue = Queue()\n",
    "#     存入队列\n",
    "    for name in namelist:\n",
    "        queue.enqueue(name)\n",
    "        \n",
    "    while queue.size()>1:\n",
    "#         连续移除并存入队列num次，某项进行该操作表示山芋经该项之手\n",
    "        for i in range(num):\n",
    "            queue.enqueue(queue.dequeue())\n",
    "#         num次之后经过谁之手，谁将out\n",
    "        queue.dequeue()\n",
    "#   最后剩的项即为获胜者    \n",
    "    return queue.dequeue()\n",
    "\n",
    "print (hotPotato([\"1\",\"2\",\"3\",\"4\",\"5\",\"6\",\"7\"],5))"
   ]
  },
  {
   "cell_type": "code",
   "execution_count": 10,
   "metadata": {},
   "outputs": [
    {
     "name": "stdout",
     "output_type": "stream",
     "text": [
      "1\n",
      "1\n"
     ]
    }
   ],
   "source": [
    "for i in '11':\n",
    "    print (i)"
   ]
  },
  {
   "cell_type": "markdown",
   "metadata": {
    "collapsed": true
   },
   "source": [
    "### （三）双端队列（deque）"
   ]
  },
  {
   "cell_type": "markdown",
   "metadata": {
    "collapsed": true
   },
   "source": [
    "deque（也称为双端队列） 是与队列类似的项的有序集合。它有两个端部，首部和尾部，并且\n",
    "项在集合中保持不变。deque 不同的地方是添加和删除项是非限制性的。可以在前面或后面\n",
    "添加新项。同样，可以从任一端移除现有项。在某种意义上，这种混合线性结构提供了单个\n",
    "数据结构中的栈和队列的所有能力。"
   ]
  },
  {
   "cell_type": "markdown",
   "metadata": {},
   "source": [
    "1.Deque() 创建一个空的新 deque。它不需要参数，并返回空的 deque。\n",
    "\n",
    "2.addFront(item) 将一个新项添加到 deque 的首部。它需要 item 参数 并不返回任何内容。\n",
    "\n",
    "3.addRear(item) 将一个新项添加到 deque 的尾部。它需要 item 参数并不返回任何内容。\n",
    "\n",
    "4.removeFront() 从 deque 中删除首项。它不需要参数并返回 item。deque 被修改。\n",
    "\n",
    "5.removeRear() 从 deque 中删除尾项。它不需要参数并返回 item。deque 被修改。\n",
    "\n",
    "6.isEmpty() 测试 deque 是否为空。它不需要参数，并返回布尔值。\n",
    "\n",
    "7.size() 返回 deque 中的项数。它不需要参数，并返回一个整数。\n",
    "举例如下：\n",
    "<img src =\"image/2_3.jpg\", width = 500, higth = 1000>"
   ]
  },
  {
   "cell_type": "markdown",
   "metadata": {},
   "source": [
    "#### 回文检查实例"
   ]
  },
  {
   "cell_type": "code",
   "execution_count": 21,
   "metadata": {},
   "outputs": [
    {
     "name": "stdout",
     "output_type": "stream",
     "text": [
      "False\n",
      "True\n"
     ]
    }
   ],
   "source": [
    "from pythonds.basic.deque import Deque\n",
    "def palchecker(aString):\n",
    "    chardeque = Deque()\n",
    "    for ch in aString:\n",
    "        chardeque.addRear(ch)\n",
    "        \n",
    "    stillEqual = True\n",
    "    while chardeque.size() > 1 and stillEqual:\n",
    "        first = chardeque.removeFront()\n",
    "        last = chardeque.removeRear()\n",
    "        if first != last:\n",
    "            stillEqual = False\n",
    "            \n",
    "    return stillEqual\n",
    "\n",
    "print(palchecker(\"lsdkjfskf\"))\n",
    "print(palchecker(\"radar\"))"
   ]
  },
  {
   "cell_type": "markdown",
   "metadata": {},
   "source": [
    "### （四）列表"
   ]
  },
  {
   "cell_type": "markdown",
   "metadata": {},
   "source": [
    "1.List() 创建一个新的空列表。它不需要参数，并返回一个空列表。\n",
    "\n",
    "2.remove(item) 从列表中删除该项。它需要 item 作为参数并修改列表。假设项存在于列表\n",
    "中。\n",
    "\n",
    "3.isEmpty() 检查列表是否为空。它不需要参数，并返回布尔值。\n",
    "\n",
    "4.size（） 返回列表中的项数。它不需要参数，并返回一个整数。\n",
    "\n",
    "5.append(item) 将一个新项添加到列表的末尾，使其成为集合中的最后一项。它需要 item\n",
    "作为参数，并不返回任何内容。假定该项不在列表中。\n",
    "\n",
    "6.index(item) 返回项在列表中的位置。它需要 item 作为参数并返回索引。假定该项在列表\n",
    "中。\n",
    "\n",
    "7.insert(pos，item) 在位置 pos 处向列表中添加一个新项。它需要 item 作为参数并不返回\n",
    "任何内容。假设该项不在列表中，并且有足够的现有项使其有 pos 的位置。\n",
    "\n",
    "8.pop() 删除并返回列表中的最后一个项。假设该列表至少有一个项。\n",
    "\n",
    "9.pop(pos) 删除并返回位置 pos 处的项。它需要 pos 作为参数并返回项。假定该项在列表\n",
    "中。"
   ]
  },
  {
   "cell_type": "code",
   "execution_count": 33,
   "metadata": {},
   "outputs": [
    {
     "name": "stdout",
     "output_type": "stream",
     "text": [
      "[1, 2, 8, 4, 5, 6]\n",
      "8\n"
     ]
    }
   ],
   "source": [
    "a = [1,2,3,4,5]\n",
    "a.remove(3)\n",
    "a.append(6)\n",
    "a.insert(2,8)\n",
    "print(a)\n",
    "print(a.pop(2))"
   ]
  },
  {
   "cell_type": "markdown",
   "metadata": {},
   "source": [
    "#### 实现无序列表：链表"
   ]
  },
  {
   "cell_type": "markdown",
   "metadata": {},
   "source": []
  },
  {
   "cell_type": "code",
   "execution_count": null,
   "metadata": {
    "collapsed": true
   },
   "outputs": [],
   "source": []
  },
  {
   "cell_type": "code",
   "execution_count": null,
   "metadata": {
    "collapsed": true
   },
   "outputs": [],
   "source": []
  }
 ],
 "metadata": {
  "kernelspec": {
   "display_name": "Python 3",
   "language": "python",
   "name": "python3"
  },
  "language_info": {
   "codemirror_mode": {
    "name": "ipython",
    "version": 3
   },
   "file_extension": ".py",
   "mimetype": "text/x-python",
   "name": "python",
   "nbconvert_exporter": "python",
   "pygments_lexer": "ipython3",
   "version": "3.6.3"
  }
 },
 "nbformat": 4,
 "nbformat_minor": 2
}
