{
 "cells": [
  {
   "cell_type": "code",
   "execution_count": null,
   "metadata": {
    "collapsed": true
   },
   "outputs": [],
   "source": [
    "        output = []\n",
    "        for num in range(left, right+1):\n",
    "            num_str = str(num)\n",
    "            for c in num_str:\n",
    "                if c == '0':\n",
    "                    break\n",
    "                if num%int(c) != 0:\n",
    "                    break\n",
    "            else:import nltk\n",
    "                output.append(num)\n",
    "        return output"
   ]
  },
  {
   "cell_type": "code",
   "execution_count": 7,
   "metadata": {},
   "outputs": [
    {
     "data": {
      "text/plain": [
       "27"
      ]
     },
     "execution_count": 7,
     "metadata": {},
     "output_type": "execute_result"
    }
   ],
   "source": [
    "def power(base, exp):\n",
    "    result = 1\n",
    "    while exp >= 1:\n",
    "        exp -= 1\n",
    "        result *= base\n",
    "    return result\n",
    "power (3,3)"
   ]
  },
  {
   "cell_type": "code",
   "execution_count": null,
   "metadata": {
    "collapsed": true
   },
   "outputs": [],
   "source": [
    "        for idx in range(0, len(s), 2*k):\n",
    "\t\ts = s[:idx] + s[idx:idx+k][::-1] + s[idx+k:]\n",
    "        return s\n",
    "    \n",
    "    qwertyuiop"
   ]
  },
  {
   "cell_type": "code",
   "execution_count": 13,
   "metadata": {},
   "outputs": [
    {
     "data": {
      "text/plain": [
       "{'e', 'p'}"
      ]
     },
     "execution_count": 13,
     "metadata": {},
     "output_type": "execute_result"
    }
   ],
   "source": [
    "a=set('qwertyuiop')\n",
    "a\n",
    "t=set(word.lower())\n",
    "t\n",
    "a&t"
   ]
  },
  {
   "cell_type": "code",
   "execution_count": null,
   "metadata": {
    "collapsed": true
   },
   "outputs": [],
   "source": [
    "        for word in words:\n",
    "            t=set(word.lower())\n",
    "            if a&t==t:\n",
    "                ans.append(word)\n",
    "            if b&t==t:\n",
    "                ans.append(word)\n",
    "            if c&t==t:\n",
    "                ans.append(word)\n",
    "        return ans"
   ]
  },
  {
   "cell_type": "code",
   "execution_count": 31,
   "metadata": {},
   "outputs": [
    {
     "name": "stdout",
     "output_type": "stream",
     "text": [
      "False\n",
      "False\n",
      "True\n"
     ]
    }
   ],
   "source": [
    "n = 8\n",
    "a = bin(n)[2:-1]\n",
    "b = bin(n)[3:]\n",
    "for i in range(len(a)):\n",
    "    if abs(int(a[i])- int(b[i])) == 0:\n",
    "        print(\"False\")\n",
    "print(\"True\")\n"
   ]
  },
  {
   "cell_type": "code",
   "execution_count": 40,
   "metadata": {},
   "outputs": [
    {
     "data": {
      "text/plain": [
       "['12BC', '12bc']"
      ]
     },
     "execution_count": 40,
     "metadata": {},
     "output_type": "execute_result"
    }
   ],
   "source": [
    "res = ['']\n",
    "ch = '12bc'\n",
    "res = [i+j for i in res for j in [ch.upper(), ch.lower()]]\n",
    "res"
   ]
  }
 ],
 "metadata": {
  "kernelspec": {
   "display_name": "Python 3",
   "language": "python",
   "name": "python3"
  },
  "language_info": {
   "codemirror_mode": {
    "name": "ipython",
    "version": 3
   },
   "file_extension": ".py",
   "mimetype": "text/x-python",
   "name": "python",
   "nbconvert_exporter": "python",
   "pygments_lexer": "ipython3",
   "version": "3.6.3"
  }
 },
 "nbformat": 4,
 "nbformat_minor": 2
}
