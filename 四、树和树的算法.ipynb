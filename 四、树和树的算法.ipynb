{
 "cells": [
  {
   "cell_type": "markdown",
   "metadata": {},
   "source": [
    "# Python数据结构与算法"
   ]
  },
  {
   "cell_type": "markdown",
   "metadata": {},
   "source": [
    "## 四、树和树的算法"
   ]
  },
  {
   "cell_type": "markdown",
   "metadata": {},
   "source": [
    "### 1. 树的列表表示"
   ]
  },
  {
   "cell_type": "markdown",
   "metadata": {},
   "source": [
    "对于如下一棵树：\n",
    "\n",
    "<img src = \"image/4_1.jpg\", width = 200, higth = 150>\n",
    "\n",
    "表示如下："
   ]
  },
  {
   "cell_type": "code",
   "execution_count": 1,
   "metadata": {},
   "outputs": [
    {
     "name": "stdout",
     "output_type": "stream",
     "text": [
      "['a', ['b', ['d', [], []], ['e', [], []]], ['c', ['f', [], []], []]]\n",
      "left subtree =  ['b', ['d', [], []], ['e', [], []]]\n",
      "root =  a\n",
      "right subtree =  ['c', ['f', [], []], []]\n"
     ]
    }
   ],
   "source": [
    "myTree = ['a',['b',['d',[],[]],['e',[],[]]],['c',['f',[],[]],[]]]\n",
    "print(myTree)\n",
    "print('left subtree = ', myTree[1])  # 左子树\n",
    "print('root = ', myTree[0])\n",
    "print('right subtree = ', myTree[2]) # 右子树"
   ]
  },
  {
   "cell_type": "markdown",
   "metadata": {
    "collapsed": true
   },
   "source": [
    "### 2. 树的节点表示"
   ]
  },
  {
   "cell_type": "code",
   "execution_count": 2,
   "metadata": {},
   "outputs": [
    {
     "name": "stdout",
     "output_type": "stream",
     "text": [
      "a\n",
      "None\n",
      "<__main__.BinaryTree object at 0x00000241A60CF128>\n",
      "b\n",
      "<__main__.BinaryTree object at 0x00000241A60CF278>\n",
      "c\n",
      "hello\n"
     ]
    }
   ],
   "source": [
    "# 定义一个二叉树类：\n",
    "class BinaryTree:\n",
    "#     初始化，设置根节点，子节点为空\n",
    "    def __init__(self,rootObj):\n",
    "        self.key = rootObj\n",
    "        self.leftChild = None\n",
    "        self.rightChild = None\n",
    "#         插入左子树。若原子树为空，直接插入；若不为空，将原左子树放入现子树的下一层\n",
    "    def insertLeft(self,newNode):\n",
    "        if self.leftChild == None:\n",
    "            self.leftChild = BinaryTree(newNode)\n",
    "        else:\n",
    "            t = BinaryTree(newNode)\n",
    "            t.leftChild = self.leftChild\n",
    "            self.leftChild = t\n",
    "#             插入右子树\n",
    "    def insertRight(self,newNode):\n",
    "        if self.rightChild == None:\n",
    "            self.rightChild = BinaryTree(newNode)\n",
    "        else:\n",
    "            t = BinaryTree(newNode)\n",
    "            t.rightChild = self.rightChild\n",
    "            self.rightChild = t\n",
    "#             获取根节点和子节点\n",
    "    def getRightChild(self):\n",
    "        return self.rightChild\n",
    "    def getLeftChild(self):\n",
    "        return self.leftChild\n",
    "    def setRootVal(self,obj):\n",
    "        self.key = obj\n",
    "    def getRootVal(self):\n",
    "        return self.key\n",
    "r = BinaryTree('a')\n",
    "print(r.getRootVal())\n",
    "print(r.getLeftChild())\n",
    "r.insertLeft('b')\n",
    "print(r.getLeftChild())\n",
    "print(r.getLeftChild().getRootVal())\n",
    "r.insertRight('c')\n",
    "print(r.getRightChild())\n",
    "print(r.getRightChild().getRootVal())\n",
    "r.getRightChild().setRootVal('hello')\n",
    "print(r.getRightChild().getRootVal())"
   ]
  },
  {
   "cell_type": "markdown",
   "metadata": {
    "collapsed": true
   },
   "source": [
    "### 3. 树的遍历"
   ]
  },
  {
   "cell_type": "markdown",
   "metadata": {
    "collapsed": true
   },
   "source": [
    "（1）前序： 在前序遍历中，我们首先访问根节点，然后递归地做左侧子树的前序遍历，随后是右侧。 \n",
    "（2）中序： 在一个中序遍历中，我们递归地对左子树进行一次遍历，访问根节点，最后递归遍历右子树。 \n",
    "（3）后序： 在后序遍历中，我们递归地对左子树和右子树进行后序遍历，然后访问根节点。"
   ]
  },
  {
   "cell_type": "markdown",
   "metadata": {
    "collapsed": true
   },
   "source": [
    "前序遍历的递归写法"
   ]
  },
  {
   "cell_type": "code",
   "execution_count": null,
   "metadata": {
    "collapsed": true
   },
   "outputs": [],
   "source": [
    "def preorder(tree):\n",
    "    if tree:\n",
    "        print(tree.getRootVal())\n",
    "        preorder(tree.getLeftChild())\n",
    "        preorder(tree.getRightChild())"
   ]
  },
  {
   "cell_type": "markdown",
   "metadata": {
    "collapsed": true
   },
   "source": [
    "后序遍历的递归写法"
   ]
  },
  {
   "cell_type": "code",
   "execution_count": null,
   "metadata": {
    "collapsed": true
   },
   "outputs": [],
   "source": [
    "def postorder(tree):\n",
    "    if tree != None:\n",
    "        postorder(tree.getLeftChild())\n",
    "        postorder(tree.getRightChild())\n",
    "        print(tree.getRootVal())"
   ]
  },
  {
   "cell_type": "markdown",
   "metadata": {
    "collapsed": true
   },
   "source": [
    "中序遍历的递归写法"
   ]
  },
  {
   "cell_type": "code",
   "execution_count": null,
   "metadata": {
    "collapsed": true
   },
   "outputs": [],
   "source": [
    "def inorder(tree):\n",
    "    if tree != None:\n",
    "        inorder(tree.getLeftChild())\n",
    "        print(tree.getRootVal())\n",
    "        inorder(tree.getRightChild())"
   ]
  },
  {
   "cell_type": "markdown",
   "metadata": {},
   "source": [
    "### 4. 二叉堆实现"
   ]
  },
  {
   "cell_type": "markdown",
   "metadata": {},
   "source": [
    "前面讲到了用排序函数和列表实现优先级队列。然而，插入列表是 O(n)并且排序列表是 O(nlogn)。\n",
    "\n",
    "我们可以做得更好。实现优先级队列的经典方法是使用称为二叉堆的数据结构。二叉堆将允许我们在 O(logn) 中排队和取出队列。"
   ]
  },
  {
   "cell_type": "code",
   "execution_count": 16,
   "metadata": {},
   "outputs": [
    {
     "name": "stdout",
     "output_type": "stream",
     "text": [
      "3\n",
      "5\n",
      "7\n",
      "11\n"
     ]
    }
   ],
   "source": [
    "# 二叉堆调用实例\n",
    "from pythonds.trees.binheap import BinHeap\n",
    "bh = BinHeap()\n",
    "bh.insert(5)  # 插入元素\n",
    "bh.insert(7)\n",
    "bh.insert(3)\n",
    "bh.insert(11)\n",
    "\n",
    "print(bh.delMin())  # 返回具有最小键值的项，从堆中删除该项\n",
    "print(bh.delMin())\n",
    "print(bh.delMin())\n",
    "print(bh.delMin())\n"
   ]
  },
  {
   "cell_type": "code",
   "execution_count": 19,
   "metadata": {},
   "outputs": [
    {
     "name": "stdout",
     "output_type": "stream",
     "text": [
      "2\n",
      "3\n",
      "5\n",
      "6\n",
      "9\n"
     ]
    }
   ],
   "source": [
    "# 实现\n",
    "class BinHeap:\n",
    "#     初始化\n",
    "    def __init__(self):\n",
    "        self.heapList = [0]  # 一个空的二叉堆有一个单一的零作为 heapList 的第一个元素\n",
    "        self.currentSize = 0\n",
    "        \n",
    "    def percUp(self,i):   # 若新加入的项比之前的项小，依次与上层节点比较并置换\n",
    "        while i // 2 > 0:\n",
    "            if self.heapList[i] < self.heapList[i // 2]:\n",
    "                tmp = self.heapList[i // 2]\n",
    "                self.heapList[i // 2] = self.heapList[i]\n",
    "                self.heapList[i] = tmp\n",
    "            i = i // 2\n",
    "            \n",
    "#         插入项\n",
    "    def insert(self,k):\n",
    "        self.heapList.append(k)\n",
    "        self.currentSize = self.currentSize + 1\n",
    "        self.percUp(self.currentSize)\n",
    "        \n",
    "#  从根节点开始，依次与子节点比较，将父节点与较小的子节点置换\n",
    "    def percDown(self,i):\n",
    "        while (i * 2) <= self.currentSize:\n",
    "            mc = self.minChild(i)\n",
    "            if self.heapList[i] > self.heapList[mc]:\n",
    "                tmp = self.heapList[i]\n",
    "                self.heapList[i] = self.heapList[mc]\n",
    "                self.heapList[mc] = tmp\n",
    "            i = mc\n",
    "                \n",
    "#      寻找该节点下的最小子节点\n",
    "    def minChild(self,i):\n",
    "        if i * 2 + 1 > self.currentSize:\n",
    "            return i * 2\n",
    "        else:\n",
    "            if self.heapList[i*2] < self.heapList[i*2+1]:\n",
    "                return i * 2\n",
    "            else:\n",
    "                return i * 2 + 1\n",
    "            \n",
    " #         删除最小项\n",
    "    def delMin(self):\n",
    "        retval = self.heapList[1]\n",
    "        self.heapList[1] = self.heapList[self.currentSize]    # 先将最后一项补到根节点\n",
    "        self.currentSize = self.currentSize - 1\n",
    "        self.heapList.pop()\n",
    "        self.percDown(1)            # 从根节点开始置换\n",
    "        return retval\n",
    "    \n",
    "    def buildHeap(self,alist):\n",
    "        i = len(alist) // 2\n",
    "        self.currentSize = len(alist)\n",
    "        self.heapList = [0] + alist[:]\n",
    "        while (i > 0):\n",
    "            self.percDown(i)   # 构建二叉堆\n",
    "            i = i - 1\n",
    "bh = BinHeap()\n",
    "bh.buildHeap([9,5,6,2,3])\n",
    "print(bh.delMin())\n",
    "print(bh.delMin())\n",
    "print(bh.delMin())\n",
    "print(bh.delMin())\n",
    "print(bh.delMin())"
   ]
  },
  {
   "cell_type": "markdown",
   "metadata": {
    "collapsed": true
   },
   "source": [
    "注意：构建二叉堆时，最先想到的操作是给定一个列表，通过一次插入一个键轻松地构建一个堆。但要在堆中插入 n 个键，将需要总共 O(nlogn) 操作。 \n",
    "\n",
    "因此采用如上方式构建，我们可以在 O(n) 操作中构建整个堆。\n",
    "\n",
    "（1）从中间层开始，将大的值移至下层。\n",
    "\n",
    "（2）每次迭代向上一层，调用percDown函数，均逐渐将大的值移至下层。\n",
    "\n",
    "示例如下：\n",
    "<img src = \"image/4_2.jpg\", width = 500, higth = 200>"
   ]
  },
  {
   "cell_type": "markdown",
   "metadata": {},
   "source": [
    "### 4. 二叉搜索树"
   ]
  },
  {
   "cell_type": "markdown",
   "metadata": {},
   "source": [
    "搜索树特性：左子树中的所有键小于根中的键。 右子树中的所有键都大于根。"
   ]
  },
  {
   "cell_type": "markdown",
   "metadata": {},
   "source": [
    "（1）插入节点：\n",
    "\n",
    "①从树的根开始，搜索二叉树，将新键与当前节点中的键进行比较。如果新键小于当前节点，则搜索左子树。如果新键大于当前节点，则搜索右子树。\n",
    "\n",
    "②当没有左（或右） 孩子要搜索时，我们在树中找到应该建立新节点的位置。\n",
    "\n",
    "（2）查找节点：\n",
    "\n",
    "递归地搜索树，直到它到达不匹配的叶节点或找到匹配的键。当找到匹配的键时，返回存储在节点的有效载荷中的值。\n",
    "\n",
    "（3）删除节点：\n",
    "\n",
    "①如果当前节点没有子节点，我们需要做的是删除节点并删除对父节点中该节点的引用。 \n",
    "\n",
    "②如果当前节点只有一个子节点，只需把该节点删除，把子节点提上来，更新该节点子节点与父节点之间的引用。\n",
    "\n",
    "③如果当前节点有两个子节点，选用右子树中的最小的键来替换该节点。并且易知，最小的键一定满足前两种情况，因此删除最小的键后用前两种方法补齐。\n",
    "\n",
    "下面三张图分别表示了三种删除节点的操作：\n",
    "<img src = \"image/4_3.jpg\", width = 500, higth = 200>\n",
    "<img src = \"image/4_4.jpg\", width = 500, higth = 200>\n",
    "<img src = \"image/4_5.jpg\", width = 500, higth = 200>"
   ]
  },
  {
   "cell_type": "markdown",
   "metadata": {
    "collapsed": true
   },
   "source": [
    "### 5. 平衡二叉搜索树"
   ]
  },
  {
   "cell_type": "markdown",
   "metadata": {
    "collapsed": true
   },
   "source": [
    "我们将节点的平衡因子定义为左子树的高度和右子树的高度之间的差。\n",
    "\n",
    "如果平衡因子是 -1,0 或 1，我们将定义树平衡。\n",
    "\n",
    "一旦添加新叶，我们必须更新其父的平衡因子。如果新节点是右子节点，则父节点的平衡因子将减少1。如果新节点是左子节点，则父节点的平衡因子将增加1。"
   ]
  },
  {
   "cell_type": "markdown",
   "metadata": {},
   "source": [
    "实现流程：定义updateBalance 方法，首先检查当前节点是否不够平衡，需要重新平衡。如果平衡，则重新平衡完成，并且不需要对父节点进行进一步更新。如果当前节点不需要重新平衡，则调整父节点的平衡因子。如果父的平衡因子不为零，那么算法通过递归调用父对象上的 updateBalance ，继续沿树向根向上运行。（一旦一个子树的平衡因子为零，那么它的祖先节点的平衡不会改变。）\n",
    "\n",
    "平衡方法：以右旋转为例。\n",
    "<img src = \"image/4_6.jpg\", width = 500, higth = 200>\n",
    "\n",
    "（1）提升左子节点（C） 为子树的根。\n",
    "\n",
    "（2）将旧根（E） 移动为新根的右子树。\n",
    "\n",
    "（3）如果新根（C） 已经有一个正确的右孩子（D） ，那么使它成为新的右孩子（E） 的左孩子。\n",
    "\n",
    "但是有一种情况会出现问题，如下所示：\n",
    "<img src = \"image/4_7.jpg\", width = 500, higth = 200>\n",
    "\n",
    "只按上面的方法，不能实现平衡。要纠正这个问题，我们必须使用以下规则集：\n",
    "\n",
    "（1）如果子树需要左旋转使其平衡，首先检查右子节点的平衡因子。 如果右孩子是重的，那么对右孩子做右旋转，然后是原来的左旋转。\n",
    "\n",
    "（2）如果子树需要右旋转使其平衡，首先检查左子节点的平衡因子。 如果左孩子是重的，那么对左孩子做左旋转，然后是原来的右旋转。"
   ]
  },
  {
   "cell_type": "code",
   "execution_count": null,
   "metadata": {
    "collapsed": true
   },
   "outputs": [],
   "source": [
    "def _put(self,key,val,currentNode):\n",
    "    if key < currentNode.key:\n",
    "        if currentNode.hasLeftChild():\n",
    "            self._put(key,val,currentNode.leftChild)\n",
    "        else:\n",
    "            currentNode.leftChild = TreeNode(key,val,parent=currentNode)\n",
    "            self.updateBalance(currentNode.leftChild)\n",
    "    else:\n",
    "        if currentNode.hasRightChild():\n",
    "            self._put(key,val,currentNode.rightChild)\n",
    "        else:\n",
    "            currentNode.rightChild = TreeNode(key,val,parent=currentNode)\n",
    "            self.updateBalance(currentNode.rightChild)\n",
    "def updateBalance(self,node):\n",
    "    if node.balanceFactor > 1 or node.balanceFactor < -1:\n",
    "        self.rebalance(node)\n",
    "        return\n",
    "    if node.parent != None:\n",
    "        if node.isLeftChild():\n",
    "            node.parent.balanceFactor += 1\n",
    "        elif node.isRightChild():\n",
    "            node.parent.balanceFactor -= 1\n",
    "        if node.parent.balanceFactor != 0:\n",
    "            self.updateBalance(node.parent)\n",
    "            \n",
    "def rotateLeft(self,rotRoot):\n",
    "    newRoot = rotRoot.rightChild\n",
    "    rotRoot.rightChild = newRoot.leftChild\n",
    "    if newRoot.leftChild != None:\n",
    "        newRoot.leftChild.parent = rotRoot\n",
    "    newRoot.parent = rotRoot.parent\n",
    "    if rotRoot.isRoot():\n",
    "        self.root = newRoot\n",
    "    else:\n",
    "        if rotRoot.isLeftChild():\n",
    "            rotRoot.parent.leftChild = newRoot\n",
    "        else:\n",
    "            rotRoot.parent.rightChild = newRoot\n",
    "    newRoot.leftChild = rotRoot\n",
    "    rotRoot.parent = newRoot\n",
    "    rotRoot.balanceFactor = rotRoot.balanceFactor + 1 - min(newRoot.balanceFactor, 0)   # 平衡因子更新公式，证明不再给出\n",
    "    newRoot.balanceFactor = newRoot.balanceFactor + 1 + max(rotRoot.balanceFactor, 0)   \n",
    "\n",
    "def rebalance(self,node):\n",
    "    if node.balanceFactor < 0:\n",
    "        if node.rightChild.balanceFactor > 0:\n",
    "            self.rotateRight(node.rightChild)\n",
    "            self.rotateLeft(node)\n",
    "        else:\n",
    "            self.rotateLeft(node)\n",
    "    elif node.balanceFactor > 0:\n",
    "        if node.leftChild.balanceFactor < 0:\n",
    "            self.rotateLeft(node.leftChild)\n",
    "            self.rotateRight(node)\n",
    "        else:\n",
    "            self.rotateRight(node)"
   ]
  },
  {
   "cell_type": "code",
   "execution_count": null,
   "metadata": {
    "collapsed": true
   },
   "outputs": [],
   "source": []
  },
  {
   "cell_type": "code",
   "execution_count": null,
   "metadata": {
    "collapsed": true
   },
   "outputs": [],
   "source": []
  }
 ],
 "metadata": {
  "kernelspec": {
   "display_name": "Python 3",
   "language": "python",
   "name": "python3"
  },
  "language_info": {
   "codemirror_mode": {
    "name": "ipython",
    "version": 3
   },
   "file_extension": ".py",
   "mimetype": "text/x-python",
   "name": "python",
   "nbconvert_exporter": "python",
   "pygments_lexer": "ipython3",
   "version": "3.6.3"
  }
 },
 "nbformat": 4,
 "nbformat_minor": 2
}
